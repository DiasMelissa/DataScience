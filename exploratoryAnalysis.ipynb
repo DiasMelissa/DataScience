{
  "nbformat": 4,
  "nbformat_minor": 0,
  "metadata": {
    "colab": {
      "provenance": [],
      "authorship_tag": "ABX9TyM78P5gqXjCLsCZxC4bD/W8",
      "include_colab_link": true
    },
    "kernelspec": {
      "name": "python3",
      "display_name": "Python 3"
    },
    "language_info": {
      "name": "python"
    }
  },
  "cells": [
    {
      "cell_type": "markdown",
      "metadata": {
        "id": "view-in-github",
        "colab_type": "text"
      },
      "source": [
        "<a href=\"https://colab.research.google.com/github/DiasMelissa/DataScience/blob/main/exploratoryAnalysis.ipynb\" target=\"_parent\"><img src=\"https://colab.research.google.com/assets/colab-badge.svg\" alt=\"Open In Colab\"/></a>"
      ]
    },
    {
      "cell_type": "code",
      "execution_count": 1,
      "metadata": {
        "id": "yOaYFwPKK84G"
      },
      "outputs": [],
      "source": [
        "import pandas as pd\n",
        "import seaborn as srn\n",
        "import statistics as sts"
      ]
    },
    {
      "cell_type": "code",
      "source": [
        "dataMeteo = pd.read_csv(\"/content/sample_data/datameteo.csv\", sep=\",\")\n",
        "dataMeteo.head()"
      ],
      "metadata": {
        "colab": {
          "base_uri": "https://localhost:8080/",
          "height": 307
        },
        "id": "Q9u7P7TZOltb",
        "outputId": "d01e2008-ccac-49b7-e180-84ad2a0d8908"
      },
      "execution_count": 8,
      "outputs": [
        {
          "output_type": "execute_result",
          "data": {
            "text/plain": [
              "   Mês  Dia  Hora  TBS {C}  TBU {C}  T. Pto Orvalho {C}  \\\n",
              "0    1    1     1     17.4     15.9                14.8   \n",
              "1    1    1     2     17.4     15.9                14.8   \n",
              "2    1    1     3     17.2     16.1                15.3   \n",
              "3    1    1     4     17.2     16.2                15.4   \n",
              "4    1    1     5     16.4     15.9                15.4   \n",
              "\n",
              "   Pressao Atmosferica {kPa}  Umidade {kg/kg}  U. R. {%}  \\\n",
              "0                       92.5         0.011758         86   \n",
              "1                       92.5         0.011758         86   \n",
              "2                       92.4         0.012100         90   \n",
              "3                       92.3         0.012237         91   \n",
              "4                       92.3         0.012200         95   \n",
              "\n",
              "   Densidade do ar {kg/m3}  ...  Direção do Vento {graus}  \\\n",
              "0                    1.089  ...                       120   \n",
              "1                    1.089  ...                       160   \n",
              "2                    1.088  ...                       170   \n",
              "3                    1.086  ...                         0   \n",
              "4                    1.089  ...                        70   \n",
              "\n",
              "   Cobertura Total de Nuvens {decimas}  Rad Horizontal Extraterreste {Wh/m2}  \\\n",
              "0                                    1                                     0   \n",
              "1                                    0                                     0   \n",
              "2                                    0                                     0   \n",
              "3                                    0                                     0   \n",
              "4                                    9                                     0   \n",
              "\n",
              "   Rad Global Horizontal {Wh/m2}  Rad Direta {Wh/m2}  \\\n",
              "0                              0                   0   \n",
              "1                              0                   0   \n",
              "2                              0                   0   \n",
              "3                              0                   0   \n",
              "4                              0                   0   \n",
              "\n",
              "   Rad Direta Normal {Wh/m2}  Rad Difusa Horizontal {Wh/m2}  Unnamed: 19  \\\n",
              "0                          0                              0          NaN   \n",
              "1                          0                              0          NaN   \n",
              "2                          0                              0          NaN   \n",
              "3                          0                              0          NaN   \n",
              "4                          0                              0          NaN   \n",
              "\n",
              "   Unnamed: 20  Unnamed: 21  \n",
              "0          NaN          NaN  \n",
              "1          NaN          NaN  \n",
              "2          NaN          NaN  \n",
              "3          NaN          NaN  \n",
              "4          NaN          NaN  \n",
              "\n",
              "[5 rows x 22 columns]"
            ],
            "text/html": [
              "\n",
              "  <div id=\"df-db331dea-fd95-4e33-a0b9-7c17838cfafe\" class=\"colab-df-container\">\n",
              "    <div>\n",
              "<style scoped>\n",
              "    .dataframe tbody tr th:only-of-type {\n",
              "        vertical-align: middle;\n",
              "    }\n",
              "\n",
              "    .dataframe tbody tr th {\n",
              "        vertical-align: top;\n",
              "    }\n",
              "\n",
              "    .dataframe thead th {\n",
              "        text-align: right;\n",
              "    }\n",
              "</style>\n",
              "<table border=\"1\" class=\"dataframe\">\n",
              "  <thead>\n",
              "    <tr style=\"text-align: right;\">\n",
              "      <th></th>\n",
              "      <th>Mês</th>\n",
              "      <th>Dia</th>\n",
              "      <th>Hora</th>\n",
              "      <th>TBS {C}</th>\n",
              "      <th>TBU {C}</th>\n",
              "      <th>T. Pto Orvalho {C}</th>\n",
              "      <th>Pressao Atmosferica {kPa}</th>\n",
              "      <th>Umidade {kg/kg}</th>\n",
              "      <th>U. R. {%}</th>\n",
              "      <th>Densidade do ar {kg/m3}</th>\n",
              "      <th>...</th>\n",
              "      <th>Direção do Vento {graus}</th>\n",
              "      <th>Cobertura Total de Nuvens {decimas}</th>\n",
              "      <th>Rad Horizontal Extraterreste {Wh/m2}</th>\n",
              "      <th>Rad Global Horizontal {Wh/m2}</th>\n",
              "      <th>Rad Direta {Wh/m2}</th>\n",
              "      <th>Rad Direta Normal {Wh/m2}</th>\n",
              "      <th>Rad Difusa Horizontal {Wh/m2}</th>\n",
              "      <th>Unnamed: 19</th>\n",
              "      <th>Unnamed: 20</th>\n",
              "      <th>Unnamed: 21</th>\n",
              "    </tr>\n",
              "  </thead>\n",
              "  <tbody>\n",
              "    <tr>\n",
              "      <th>0</th>\n",
              "      <td>1</td>\n",
              "      <td>1</td>\n",
              "      <td>1</td>\n",
              "      <td>17.4</td>\n",
              "      <td>15.9</td>\n",
              "      <td>14.8</td>\n",
              "      <td>92.5</td>\n",
              "      <td>0.011758</td>\n",
              "      <td>86</td>\n",
              "      <td>1.089</td>\n",
              "      <td>...</td>\n",
              "      <td>120</td>\n",
              "      <td>1</td>\n",
              "      <td>0</td>\n",
              "      <td>0</td>\n",
              "      <td>0</td>\n",
              "      <td>0</td>\n",
              "      <td>0</td>\n",
              "      <td>NaN</td>\n",
              "      <td>NaN</td>\n",
              "      <td>NaN</td>\n",
              "    </tr>\n",
              "    <tr>\n",
              "      <th>1</th>\n",
              "      <td>1</td>\n",
              "      <td>1</td>\n",
              "      <td>2</td>\n",
              "      <td>17.4</td>\n",
              "      <td>15.9</td>\n",
              "      <td>14.8</td>\n",
              "      <td>92.5</td>\n",
              "      <td>0.011758</td>\n",
              "      <td>86</td>\n",
              "      <td>1.089</td>\n",
              "      <td>...</td>\n",
              "      <td>160</td>\n",
              "      <td>0</td>\n",
              "      <td>0</td>\n",
              "      <td>0</td>\n",
              "      <td>0</td>\n",
              "      <td>0</td>\n",
              "      <td>0</td>\n",
              "      <td>NaN</td>\n",
              "      <td>NaN</td>\n",
              "      <td>NaN</td>\n",
              "    </tr>\n",
              "    <tr>\n",
              "      <th>2</th>\n",
              "      <td>1</td>\n",
              "      <td>1</td>\n",
              "      <td>3</td>\n",
              "      <td>17.2</td>\n",
              "      <td>16.1</td>\n",
              "      <td>15.3</td>\n",
              "      <td>92.4</td>\n",
              "      <td>0.012100</td>\n",
              "      <td>90</td>\n",
              "      <td>1.088</td>\n",
              "      <td>...</td>\n",
              "      <td>170</td>\n",
              "      <td>0</td>\n",
              "      <td>0</td>\n",
              "      <td>0</td>\n",
              "      <td>0</td>\n",
              "      <td>0</td>\n",
              "      <td>0</td>\n",
              "      <td>NaN</td>\n",
              "      <td>NaN</td>\n",
              "      <td>NaN</td>\n",
              "    </tr>\n",
              "    <tr>\n",
              "      <th>3</th>\n",
              "      <td>1</td>\n",
              "      <td>1</td>\n",
              "      <td>4</td>\n",
              "      <td>17.2</td>\n",
              "      <td>16.2</td>\n",
              "      <td>15.4</td>\n",
              "      <td>92.3</td>\n",
              "      <td>0.012237</td>\n",
              "      <td>91</td>\n",
              "      <td>1.086</td>\n",
              "      <td>...</td>\n",
              "      <td>0</td>\n",
              "      <td>0</td>\n",
              "      <td>0</td>\n",
              "      <td>0</td>\n",
              "      <td>0</td>\n",
              "      <td>0</td>\n",
              "      <td>0</td>\n",
              "      <td>NaN</td>\n",
              "      <td>NaN</td>\n",
              "      <td>NaN</td>\n",
              "    </tr>\n",
              "    <tr>\n",
              "      <th>4</th>\n",
              "      <td>1</td>\n",
              "      <td>1</td>\n",
              "      <td>5</td>\n",
              "      <td>16.4</td>\n",
              "      <td>15.9</td>\n",
              "      <td>15.4</td>\n",
              "      <td>92.3</td>\n",
              "      <td>0.012200</td>\n",
              "      <td>95</td>\n",
              "      <td>1.089</td>\n",
              "      <td>...</td>\n",
              "      <td>70</td>\n",
              "      <td>9</td>\n",
              "      <td>0</td>\n",
              "      <td>0</td>\n",
              "      <td>0</td>\n",
              "      <td>0</td>\n",
              "      <td>0</td>\n",
              "      <td>NaN</td>\n",
              "      <td>NaN</td>\n",
              "      <td>NaN</td>\n",
              "    </tr>\n",
              "  </tbody>\n",
              "</table>\n",
              "<p>5 rows × 22 columns</p>\n",
              "</div>\n",
              "    <div class=\"colab-df-buttons\">\n",
              "\n",
              "  <div class=\"colab-df-container\">\n",
              "    <button class=\"colab-df-convert\" onclick=\"convertToInteractive('df-db331dea-fd95-4e33-a0b9-7c17838cfafe')\"\n",
              "            title=\"Convert this dataframe to an interactive table.\"\n",
              "            style=\"display:none;\">\n",
              "\n",
              "  <svg xmlns=\"http://www.w3.org/2000/svg\" height=\"24px\" viewBox=\"0 -960 960 960\">\n",
              "    <path d=\"M120-120v-720h720v720H120Zm60-500h600v-160H180v160Zm220 220h160v-160H400v160Zm0 220h160v-160H400v160ZM180-400h160v-160H180v160Zm440 0h160v-160H620v160ZM180-180h160v-160H180v160Zm440 0h160v-160H620v160Z\"/>\n",
              "  </svg>\n",
              "    </button>\n",
              "\n",
              "  <style>\n",
              "    .colab-df-container {\n",
              "      display:flex;\n",
              "      gap: 12px;\n",
              "    }\n",
              "\n",
              "    .colab-df-convert {\n",
              "      background-color: #E8F0FE;\n",
              "      border: none;\n",
              "      border-radius: 50%;\n",
              "      cursor: pointer;\n",
              "      display: none;\n",
              "      fill: #1967D2;\n",
              "      height: 32px;\n",
              "      padding: 0 0 0 0;\n",
              "      width: 32px;\n",
              "    }\n",
              "\n",
              "    .colab-df-convert:hover {\n",
              "      background-color: #E2EBFA;\n",
              "      box-shadow: 0px 1px 2px rgba(60, 64, 67, 0.3), 0px 1px 3px 1px rgba(60, 64, 67, 0.15);\n",
              "      fill: #174EA6;\n",
              "    }\n",
              "\n",
              "    .colab-df-buttons div {\n",
              "      margin-bottom: 4px;\n",
              "    }\n",
              "\n",
              "    [theme=dark] .colab-df-convert {\n",
              "      background-color: #3B4455;\n",
              "      fill: #D2E3FC;\n",
              "    }\n",
              "\n",
              "    [theme=dark] .colab-df-convert:hover {\n",
              "      background-color: #434B5C;\n",
              "      box-shadow: 0px 1px 3px 1px rgba(0, 0, 0, 0.15);\n",
              "      filter: drop-shadow(0px 1px 2px rgba(0, 0, 0, 0.3));\n",
              "      fill: #FFFFFF;\n",
              "    }\n",
              "  </style>\n",
              "\n",
              "    <script>\n",
              "      const buttonEl =\n",
              "        document.querySelector('#df-db331dea-fd95-4e33-a0b9-7c17838cfafe button.colab-df-convert');\n",
              "      buttonEl.style.display =\n",
              "        google.colab.kernel.accessAllowed ? 'block' : 'none';\n",
              "\n",
              "      async function convertToInteractive(key) {\n",
              "        const element = document.querySelector('#df-db331dea-fd95-4e33-a0b9-7c17838cfafe');\n",
              "        const dataTable =\n",
              "          await google.colab.kernel.invokeFunction('convertToInteractive',\n",
              "                                                    [key], {});\n",
              "        if (!dataTable) return;\n",
              "\n",
              "        const docLinkHtml = 'Like what you see? Visit the ' +\n",
              "          '<a target=\"_blank\" href=https://colab.research.google.com/notebooks/data_table.ipynb>data table notebook</a>'\n",
              "          + ' to learn more about interactive tables.';\n",
              "        element.innerHTML = '';\n",
              "        dataTable['output_type'] = 'display_data';\n",
              "        await google.colab.output.renderOutput(dataTable, element);\n",
              "        const docLink = document.createElement('div');\n",
              "        docLink.innerHTML = docLinkHtml;\n",
              "        element.appendChild(docLink);\n",
              "      }\n",
              "    </script>\n",
              "  </div>\n",
              "\n",
              "\n",
              "<div id=\"df-cfcf188c-5a0f-48c9-8cd9-9cc8b3e2d1a4\">\n",
              "  <button class=\"colab-df-quickchart\" onclick=\"quickchart('df-cfcf188c-5a0f-48c9-8cd9-9cc8b3e2d1a4')\"\n",
              "            title=\"Suggest charts\"\n",
              "            style=\"display:none;\">\n",
              "\n",
              "<svg xmlns=\"http://www.w3.org/2000/svg\" height=\"24px\"viewBox=\"0 0 24 24\"\n",
              "     width=\"24px\">\n",
              "    <g>\n",
              "        <path d=\"M19 3H5c-1.1 0-2 .9-2 2v14c0 1.1.9 2 2 2h14c1.1 0 2-.9 2-2V5c0-1.1-.9-2-2-2zM9 17H7v-7h2v7zm4 0h-2V7h2v10zm4 0h-2v-4h2v4z\"/>\n",
              "    </g>\n",
              "</svg>\n",
              "  </button>\n",
              "\n",
              "<style>\n",
              "  .colab-df-quickchart {\n",
              "      --bg-color: #E8F0FE;\n",
              "      --fill-color: #1967D2;\n",
              "      --hover-bg-color: #E2EBFA;\n",
              "      --hover-fill-color: #174EA6;\n",
              "      --disabled-fill-color: #AAA;\n",
              "      --disabled-bg-color: #DDD;\n",
              "  }\n",
              "\n",
              "  [theme=dark] .colab-df-quickchart {\n",
              "      --bg-color: #3B4455;\n",
              "      --fill-color: #D2E3FC;\n",
              "      --hover-bg-color: #434B5C;\n",
              "      --hover-fill-color: #FFFFFF;\n",
              "      --disabled-bg-color: #3B4455;\n",
              "      --disabled-fill-color: #666;\n",
              "  }\n",
              "\n",
              "  .colab-df-quickchart {\n",
              "    background-color: var(--bg-color);\n",
              "    border: none;\n",
              "    border-radius: 50%;\n",
              "    cursor: pointer;\n",
              "    display: none;\n",
              "    fill: var(--fill-color);\n",
              "    height: 32px;\n",
              "    padding: 0;\n",
              "    width: 32px;\n",
              "  }\n",
              "\n",
              "  .colab-df-quickchart:hover {\n",
              "    background-color: var(--hover-bg-color);\n",
              "    box-shadow: 0 1px 2px rgba(60, 64, 67, 0.3), 0 1px 3px 1px rgba(60, 64, 67, 0.15);\n",
              "    fill: var(--button-hover-fill-color);\n",
              "  }\n",
              "\n",
              "  .colab-df-quickchart-complete:disabled,\n",
              "  .colab-df-quickchart-complete:disabled:hover {\n",
              "    background-color: var(--disabled-bg-color);\n",
              "    fill: var(--disabled-fill-color);\n",
              "    box-shadow: none;\n",
              "  }\n",
              "\n",
              "  .colab-df-spinner {\n",
              "    border: 2px solid var(--fill-color);\n",
              "    border-color: transparent;\n",
              "    border-bottom-color: var(--fill-color);\n",
              "    animation:\n",
              "      spin 1s steps(1) infinite;\n",
              "  }\n",
              "\n",
              "  @keyframes spin {\n",
              "    0% {\n",
              "      border-color: transparent;\n",
              "      border-bottom-color: var(--fill-color);\n",
              "      border-left-color: var(--fill-color);\n",
              "    }\n",
              "    20% {\n",
              "      border-color: transparent;\n",
              "      border-left-color: var(--fill-color);\n",
              "      border-top-color: var(--fill-color);\n",
              "    }\n",
              "    30% {\n",
              "      border-color: transparent;\n",
              "      border-left-color: var(--fill-color);\n",
              "      border-top-color: var(--fill-color);\n",
              "      border-right-color: var(--fill-color);\n",
              "    }\n",
              "    40% {\n",
              "      border-color: transparent;\n",
              "      border-right-color: var(--fill-color);\n",
              "      border-top-color: var(--fill-color);\n",
              "    }\n",
              "    60% {\n",
              "      border-color: transparent;\n",
              "      border-right-color: var(--fill-color);\n",
              "    }\n",
              "    80% {\n",
              "      border-color: transparent;\n",
              "      border-right-color: var(--fill-color);\n",
              "      border-bottom-color: var(--fill-color);\n",
              "    }\n",
              "    90% {\n",
              "      border-color: transparent;\n",
              "      border-bottom-color: var(--fill-color);\n",
              "    }\n",
              "  }\n",
              "</style>\n",
              "\n",
              "  <script>\n",
              "    async function quickchart(key) {\n",
              "      const quickchartButtonEl =\n",
              "        document.querySelector('#' + key + ' button');\n",
              "      quickchartButtonEl.disabled = true;  // To prevent multiple clicks.\n",
              "      quickchartButtonEl.classList.add('colab-df-spinner');\n",
              "      try {\n",
              "        const charts = await google.colab.kernel.invokeFunction(\n",
              "            'suggestCharts', [key], {});\n",
              "      } catch (error) {\n",
              "        console.error('Error during call to suggestCharts:', error);\n",
              "      }\n",
              "      quickchartButtonEl.classList.remove('colab-df-spinner');\n",
              "      quickchartButtonEl.classList.add('colab-df-quickchart-complete');\n",
              "    }\n",
              "    (() => {\n",
              "      let quickchartButtonEl =\n",
              "        document.querySelector('#df-cfcf188c-5a0f-48c9-8cd9-9cc8b3e2d1a4 button');\n",
              "      quickchartButtonEl.style.display =\n",
              "        google.colab.kernel.accessAllowed ? 'block' : 'none';\n",
              "    })();\n",
              "  </script>\n",
              "</div>\n",
              "\n",
              "    </div>\n",
              "  </div>\n"
            ],
            "application/vnd.google.colaboratory.intrinsic+json": {
              "type": "dataframe",
              "variable_name": "dataMeteo"
            }
          },
          "metadata": {},
          "execution_count": 8
        }
      ]
    },
    {
      "cell_type": "code",
      "source": [
        "dataMeteo.shape"
      ],
      "metadata": {
        "colab": {
          "base_uri": "https://localhost:8080/"
        },
        "id": "i2ZPcj-rQHZp",
        "outputId": "cda2a676-ddb9-4a4e-e7c4-cb73035901a2"
      },
      "execution_count": 10,
      "outputs": [
        {
          "output_type": "execute_result",
          "data": {
            "text/plain": [
              "(8760, 22)"
            ]
          },
          "metadata": {},
          "execution_count": 10
        }
      ]
    },
    {
      "cell_type": "code",
      "source": [
        "dataMeteo['Velocidade do Vento {m/s}'].describe()"
      ],
      "metadata": {
        "colab": {
          "base_uri": "https://localhost:8080/"
        },
        "id": "fd176P5fQUKe",
        "outputId": "99f92303-dae3-497d-e1bf-594459e383e1"
      },
      "execution_count": 11,
      "outputs": [
        {
          "output_type": "execute_result",
          "data": {
            "text/plain": [
              "count    8760.000000\n",
              "mean        3.980251\n",
              "std         2.443367\n",
              "min         0.000000\n",
              "25%         2.000000\n",
              "50%         4.000000\n",
              "75%         6.000000\n",
              "max        18.000000\n",
              "Name: Velocidade do Vento {m/s}, dtype: float64"
            ]
          },
          "metadata": {},
          "execution_count": 11
        }
      ]
    },
    {
      "cell_type": "code",
      "source": [
        "srn.boxplot(dataMeteo['Velocidade do Vento {m/s}']).set_title('Velocidade do Vento {m/s}')"
      ],
      "metadata": {
        "colab": {
          "base_uri": "https://localhost:8080/",
          "height": 450
        },
        "id": "874l_DDBSlRy",
        "outputId": "f9b15bd8-afe5-43f8-c431-6816e242cb5f"
      },
      "execution_count": 12,
      "outputs": [
        {
          "output_type": "execute_result",
          "data": {
            "text/plain": [
              "Text(0.5, 1.0, 'Velocidade do Vento {m/s}')"
            ]
          },
          "metadata": {},
          "execution_count": 12
        },
        {
          "output_type": "display_data",
          "data": {
            "text/plain": [
              "<Figure size 640x480 with 1 Axes>"
            ],
            "image/png": "[encoded data removed]"
          },
          "metadata": {}
        }
      ]
    },
    {
      "cell_type": "code",
      "source": [
        "srn.distplot(dataMeteo['Velocidade do Vento {m/s}'])"
      ],
      "metadata": {
        "colab": {
          "base_uri": "https://localhost:8080/",
          "height": 657
        },
        "id": "5NTJfpTyTA1P",
        "outputId": "cc463e6c-1439-4ccc-df9d-7cfb8521dca2"
      },
      "execution_count": 17,
      "outputs": [
        {
          "output_type": "stream",
          "name": "stderr",
          "text": [
            "<ipython-input-17-7eb4c0211431>:1: UserWarning: \n",
            "\n",
            "`distplot` is a deprecated function and will be removed in seaborn v0.14.0.\n",
            "\n",
            "Please adapt your code to use either `displot` (a figure-level function with\n",
            "similar flexibility) or `histplot` (an axes-level function for histograms).\n",
            "\n",
            "For a guide to updating your code to use the new functions, please see\n",
            "https://gist.github.com/mwaskom/de44147ed2974457ad6372750bbe5751\n",
            "\n",
            "  srn.distplot(dataMeteo['Velocidade do Vento {m/s}'])\n"
          ]
        },
        {
          "output_type": "execute_result",
          "data": {
            "text/plain": [
              "<Axes: xlabel='Velocidade do Vento {m/s}', ylabel='Density'>"
            ]
          },
          "metadata": {},
          "execution_count": 17
        },
        {
          "output_type": "display_data",
          "data": {
            "text/plain": [
              "<Figure size 640x480 with 1 Axes>"
            ],
            "image/png": "[encoded data removed]"
          },
          "metadata": {}
        }
      ]
    },
    {
      "cell_type": "code",
      "source": [
        "srn.histplot(dataMeteo['Velocidade do Vento {m/s}'], kde=True)"
      ],
      "metadata": {
        "colab": {
          "base_uri": "https://localhost:8080/",
          "height": 466
        },
        "id": "s714CqklT730",
        "outputId": "a6566dda-e868-4b38-c4b1-1de69a116c04"
      },
      "execution_count": 18,
      "outputs": [
        {
          "output_type": "execute_result",
          "data": {
            "text/plain": [
              "<Axes: xlabel='Velocidade do Vento {m/s}', ylabel='Count'>"
            ]
          },
          "metadata": {},
          "execution_count": 18
        },
        {
          "output_type": "display_data",
          "data": {
            "text/plain": [
              "<Figure size 640x480 with 1 Axes>"
            ],
            "image/png": "[encoded data removed]"
          },
          "metadata": {}
        }
      ]
    },
    {
      "cell_type": "code",
      "source": [
        "srn.boxplot(dataMeteo['T. Pto Orvalho {C}']).set_title('T. Pto Orvalho {C}')"
      ],
      "metadata": {
        "colab": {
          "base_uri": "https://localhost:8080/",
          "height": 450
        },
        "id": "P-qWw9grUcYT",
        "outputId": "57d1de13-c667-47c1-ecb5-5abc1887772e"
      },
      "execution_count": 25,
      "outputs": [
        {
          "output_type": "execute_result",
          "data": {
            "text/plain": [
              "Text(0.5, 1.0, 'T. Pto Orvalho {C}')"
            ]
          },
          "metadata": {},
          "execution_count": 25
        },
        {
          "output_type": "display_data",
          "data": {
            "text/plain": [
              "<Figure size 640x480 with 1 Axes>"
            ],
            "image/png": "[encoded data removed]"
          },
          "metadata": {}
        }
      ]
    },
    {
      "cell_type": "code",
      "source": [
        "srn.histplot(dataMeteo['T. Pto Orvalho {C}'], kde=True)"
      ],
      "metadata": {
        "colab": {
          "base_uri": "https://localhost:8080/",
          "height": 470
        },
        "id": "1QHOfFTNVNuM",
        "outputId": "17e26939-b683-47f4-a2c3-963bcf839ece"
      },
      "execution_count": 26,
      "outputs": [
        {
          "output_type": "execute_result",
          "data": {
            "text/plain": [
              "<Axes: xlabel='T. Pto Orvalho {C}', ylabel='Count'>"
            ]
          },
          "metadata": {},
          "execution_count": 26
        },
        {
          "output_type": "display_data",
          "data": {
            "text/plain": [
              "<Figure size 640x480 with 1 Axes>"
            ],
            "image/png": "[encoded data removed]"
          },
          "metadata": {}
        }
      ]
    },
    {
      "cell_type": "code",
      "source": [
        "# Count NAN\n",
        "dataMeteo.isnull().sum()"
      ],
      "metadata": {
        "colab": {
          "base_uri": "https://localhost:8080/"
        },
        "id": "Gc37oEAkWTJh",
        "outputId": "47bbc4f8-2e4b-441e-dc51-0486a8d5df15"
      },
      "execution_count": 27,
      "outputs": [
        {
          "output_type": "execute_result",
          "data": {
            "text/plain": [
              "Mês                                        0\n",
              "Dia                                        0\n",
              "Hora                                       0\n",
              "TBS {C}                                    0\n",
              "TBU {C}                                    0\n",
              "T. Pto Orvalho {C}                         0\n",
              "Pressao Atmosferica {kPa}                  0\n",
              "Umidade {kg/kg}                            0\n",
              "U. R. {%}                                  0\n",
              "Densidade do ar {kg/m3}                    0\n",
              "Entalpia {BTU/LB}                          0\n",
              "Velocidade do Vento {m/s}                  0\n",
              "Direção do Vento {graus}                   0\n",
              "Cobertura Total de Nuvens {decimas}        0\n",
              "Rad Horizontal Extraterreste {Wh/m2}       0\n",
              "Rad Global Horizontal {Wh/m2}              0\n",
              "Rad Direta {Wh/m2}                         0\n",
              "Rad Direta Normal {Wh/m2}                  0\n",
              "Rad Difusa Horizontal {Wh/m2}              0\n",
              "Unnamed: 19                             8760\n",
              "Unnamed: 20                             8760\n",
              "Unnamed: 21                             8760\n",
              "dtype: int64"
            ]
          },
          "metadata": {},
          "execution_count": 27
        }
      ]
    }
  ]
}